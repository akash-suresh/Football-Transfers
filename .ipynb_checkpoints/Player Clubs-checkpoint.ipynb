{
 "cells": [
  {
   "cell_type": "code",
   "execution_count": 209,
   "metadata": {
    "collapsed": true
   },
   "outputs": [],
   "source": [
    "import wikipedia\n",
    "import pandas as pd\n",
    "from BeautifulSoup import BeautifulSoup\n",
    "import urllib2\n",
    "import re"
   ]
  },
  {
   "cell_type": "code",
   "execution_count": 214,
   "metadata": {
    "collapsed": false
   },
   "outputs": [],
   "source": [
    "def parser(html):\n",
    "    soup = BeautifulSoup(html)\n",
    "    for i in soup.findAll('a'):\n",
    "        for j in i:\n",
    "            print j"
   ]
  },
  {
   "cell_type": "code",
   "execution_count": 246,
   "metadata": {
    "collapsed": false
   },
   "outputs": [],
   "source": [
    "def clubs(player):\n",
    "    try: \n",
    "        wikiPage = wikipedia.page(player)\n",
    "    except (wikipedia.exceptions.DisambiguationError):\n",
    "        wikiPage = wikipedia.search(player)\n",
    "        print wikiPage\n",
    "        wikiPage = wikipedia.page('Phil Jones (footballer, born 1992)')\n",
    "    wikiHtml = wikiPage.html()\n",
    "    #print wikiHtml\n",
    "    a = wikiHtml.find('>Senior career*<')\n",
    "    b = wikiHtml.find('>National team<')\n",
    "    clubHtml = wikiHtml[a:b]\n",
    "    parser(clubHtml)"
   ]
  },
  {
   "cell_type": "code",
   "execution_count": 248,
   "metadata": {
    "collapsed": false
   },
   "outputs": [
    {
     "name": "stdout",
     "output_type": "stream",
     "text": [
      "Atlético Madrid\n",
      "Liverpool\n",
      "Chelsea\n",
      "Milan\n",
      "Milan\n",
      "Atlético Madrid\n"
     ]
    }
   ],
   "source": [
    "clubs('Fernando Torres (footballer, born 1984)')"
   ]
  },
  {
   "cell_type": "code",
   "execution_count": 225,
   "metadata": {
    "collapsed": false,
    "scrolled": true
   },
   "outputs": [
    {
     "name": "stdout",
     "output_type": "stream",
     "text": [
      "\n",
      "\n",
      "Bastian Schweinsteiger\n",
      "Bayern Munich II\n",
      "Bayern Munich\n",
      "Manchester United\n",
      "\n",
      "\n",
      "David de Gea\n",
      "Atlético Madrid B\n",
      "Atlético Madrid\n",
      "Manchester United\n",
      "\n",
      "\n",
      "Phil Jones\n",
      "\n",
      "\n",
      "Marcos Rojo\n",
      "Estudiantes LP\n",
      "Spartak Moscow\n",
      "Sporting CP\n",
      "Manchester United\n",
      "\n",
      "\n",
      "Chris Smalling\n",
      "Maidstone United\n",
      "Fulham\n",
      "Manchester United\n",
      "\n",
      "\n",
      "Patrick McNair\n",
      "Manchester United\n",
      "\n",
      "\n",
      "Luke Shaw\n",
      "Southampton\n",
      "Manchester United\n",
      "\n",
      "\n",
      "Daley Blind\n",
      "Ajax\n",
      "FC Groningen\n",
      "Manchester United\n",
      "\n",
      "\n",
      "Michael Carrick\n",
      "West Ham United\n",
      "Swindon Town\n",
      "Birmingham City\n",
      "Tottenham Hotspur\n",
      "Manchester United\n",
      "\n",
      "\n",
      "Ander Herrera\n",
      "Real Zaragoza B\n",
      "Real Zaragoza\n",
      "Athletic Bilbao\n",
      "Manchester United\n"
     ]
    }
   ],
   "source": [
    "player_list = pd.read_csv('players')\n",
    "for i in range(10):\n",
    "    print '\\n\\n',player_list['player'][i]\n",
    "    clubs(player_list['player'][i])\n",
    "        \n",
    "        \n"
   ]
  },
  {
   "cell_type": "code",
   "execution_count": null,
   "metadata": {
    "collapsed": true
   },
   "outputs": [],
   "source": []
  },
  {
   "cell_type": "code",
   "execution_count": null,
   "metadata": {
    "collapsed": true
   },
   "outputs": [],
   "source": []
  }
 ],
 "metadata": {
  "kernelspec": {
   "display_name": "Python 2",
   "language": "python",
   "name": "python2"
  },
  "language_info": {
   "codemirror_mode": {
    "name": "ipython",
    "version": 2
   },
   "file_extension": ".py",
   "mimetype": "text/x-python",
   "name": "python",
   "nbconvert_exporter": "python",
   "pygments_lexer": "ipython2",
   "version": "2.7.9"
  }
 },
 "nbformat": 4,
 "nbformat_minor": 0
}
